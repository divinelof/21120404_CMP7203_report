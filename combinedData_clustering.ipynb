{
  "nbformat": 4,
  "nbformat_minor": 0,
  "metadata": {
    "colab": {
      "name": "combinedData_clustering.ipynb",
      "provenance": [],
      "authorship_tag": "ABX9TyOlzX5/pPaY4UVJydgMaPZJ",
      "include_colab_link": true
    },
    "kernelspec": {
      "name": "python3",
      "display_name": "Python 3"
    },
    "language_info": {
      "name": "python"
    }
  },
  "cells": [
    {
      "cell_type": "markdown",
      "metadata": {
        "id": "view-in-github",
        "colab_type": "text"
      },
      "source": [
        "<a href=\"https://colab.research.google.com/github/divinelof/21120404_CMP7203_report/blob/main/combinedData_clustering.ipynb\" target=\"_parent\"><img src=\"https://colab.research.google.com/assets/colab-badge.svg\" alt=\"Open In Colab\"/></a>"
      ]
    },
    {
      "cell_type": "code",
      "execution_count": null,
      "metadata": {
        "colab": {
          "base_uri": "https://localhost:8080/"
        },
        "id": "RGLXi2Dgo4j-",
        "outputId": "f75b8435-7371-4f9f-b7b2-323f9c676c86"
      },
      "outputs": [
        {
          "output_type": "stream",
          "name": "stdout",
          "text": [
            "Reading package lists... Done\n",
            "Building dependency tree       \n",
            "Reading state information... Done\n",
            "The following packages were automatically installed and are no longer required:\n",
            "  libnvidia-common-460 nsight-compute-2020.2.0\n",
            "Use 'apt autoremove' to remove them.\n",
            "The following additional packages will be installed:\n",
            "  openjdk-8-jre-headless\n",
            "Suggested packages:\n",
            "  openjdk-8-demo openjdk-8-source libnss-mdns fonts-dejavu-extra\n",
            "  fonts-ipafont-gothic fonts-ipafont-mincho fonts-wqy-microhei\n",
            "  fonts-wqy-zenhei fonts-indic\n",
            "The following NEW packages will be installed:\n",
            "  openjdk-8-jdk-headless openjdk-8-jre-headless\n",
            "0 upgraded, 2 newly installed, 0 to remove and 67 not upgraded.\n",
            "Need to get 36.5 MB of archives.\n",
            "After this operation, 143 MB of additional disk space will be used.\n",
            "Get:1 http://archive.ubuntu.com/ubuntu bionic-updates/universe amd64 openjdk-8-jre-headless amd64 8u312-b07-0ubuntu1~18.04 [28.2 MB]\n",
            "Get:2 http://archive.ubuntu.com/ubuntu bionic-updates/universe amd64 openjdk-8-jdk-headless amd64 8u312-b07-0ubuntu1~18.04 [8,298 kB]\n",
            "Fetched 36.5 MB in 2s (17.4 MB/s)\n",
            "Selecting previously unselected package openjdk-8-jre-headless:amd64.\n",
            "(Reading database ... 155203 files and directories currently installed.)\n",
            "Preparing to unpack .../openjdk-8-jre-headless_8u312-b07-0ubuntu1~18.04_amd64.deb ...\n",
            "Unpacking openjdk-8-jre-headless:amd64 (8u312-b07-0ubuntu1~18.04) ...\n",
            "Selecting previously unselected package openjdk-8-jdk-headless:amd64.\n",
            "Preparing to unpack .../openjdk-8-jdk-headless_8u312-b07-0ubuntu1~18.04_amd64.deb ...\n",
            "Unpacking openjdk-8-jdk-headless:amd64 (8u312-b07-0ubuntu1~18.04) ...\n",
            "Setting up openjdk-8-jre-headless:amd64 (8u312-b07-0ubuntu1~18.04) ...\n",
            "update-alternatives: using /usr/lib/jvm/java-8-openjdk-amd64/jre/bin/orbd to provide /usr/bin/orbd (orbd) in auto mode\n",
            "update-alternatives: using /usr/lib/jvm/java-8-openjdk-amd64/jre/bin/servertool to provide /usr/bin/servertool (servertool) in auto mode\n",
            "update-alternatives: using /usr/lib/jvm/java-8-openjdk-amd64/jre/bin/tnameserv to provide /usr/bin/tnameserv (tnameserv) in auto mode\n",
            "Setting up openjdk-8-jdk-headless:amd64 (8u312-b07-0ubuntu1~18.04) ...\n",
            "update-alternatives: using /usr/lib/jvm/java-8-openjdk-amd64/bin/idlj to provide /usr/bin/idlj (idlj) in auto mode\n",
            "update-alternatives: using /usr/lib/jvm/java-8-openjdk-amd64/bin/wsimport to provide /usr/bin/wsimport (wsimport) in auto mode\n",
            "update-alternatives: using /usr/lib/jvm/java-8-openjdk-amd64/bin/jsadebugd to provide /usr/bin/jsadebugd (jsadebugd) in auto mode\n",
            "update-alternatives: using /usr/lib/jvm/java-8-openjdk-amd64/bin/native2ascii to provide /usr/bin/native2ascii (native2ascii) in auto mode\n",
            "update-alternatives: using /usr/lib/jvm/java-8-openjdk-amd64/bin/javah to provide /usr/bin/javah (javah) in auto mode\n",
            "update-alternatives: using /usr/lib/jvm/java-8-openjdk-amd64/bin/hsdb to provide /usr/bin/hsdb (hsdb) in auto mode\n",
            "update-alternatives: using /usr/lib/jvm/java-8-openjdk-amd64/bin/clhsdb to provide /usr/bin/clhsdb (clhsdb) in auto mode\n",
            "update-alternatives: using /usr/lib/jvm/java-8-openjdk-amd64/bin/xjc to provide /usr/bin/xjc (xjc) in auto mode\n",
            "update-alternatives: using /usr/lib/jvm/java-8-openjdk-amd64/bin/schemagen to provide /usr/bin/schemagen (schemagen) in auto mode\n",
            "update-alternatives: using /usr/lib/jvm/java-8-openjdk-amd64/bin/extcheck to provide /usr/bin/extcheck (extcheck) in auto mode\n",
            "update-alternatives: using /usr/lib/jvm/java-8-openjdk-amd64/bin/jhat to provide /usr/bin/jhat (jhat) in auto mode\n",
            "update-alternatives: using /usr/lib/jvm/java-8-openjdk-amd64/bin/wsgen to provide /usr/bin/wsgen (wsgen) in auto mode\n"
          ]
        }
      ],
      "source": [
        "!apt-get install openjdk-8-jdk-headless"
      ]
    },
    {
      "cell_type": "code",
      "source": [
        "!wget https://archive.apache.org/dist/spark/spark-3.2.1/spark-3.2.1-bin-hadoop2.7.tgz"
      ],
      "metadata": {
        "colab": {
          "base_uri": "https://localhost:8080/"
        },
        "id": "PG-XSRRnpCKj",
        "outputId": "f849ffcf-4a4b-4b2b-acea-1e27c566d40c"
      },
      "execution_count": null,
      "outputs": [
        {
          "output_type": "stream",
          "name": "stdout",
          "text": [
            "--2022-05-18 14:48:25--  https://archive.apache.org/dist/spark/spark-3.2.1/spark-3.2.1-bin-hadoop2.7.tgz\n",
            "Resolving archive.apache.org (archive.apache.org)... 138.201.131.134, 2a01:4f8:172:2ec5::2\n",
            "Connecting to archive.apache.org (archive.apache.org)|138.201.131.134|:443... connected.\n",
            "HTTP request sent, awaiting response... 200 OK\n",
            "Length: 272637746 (260M) [application/x-gzip]\n",
            "Saving to: ‘spark-3.2.1-bin-hadoop2.7.tgz’\n",
            "\n",
            "spark-3.2.1-bin-had 100%[===================>] 260.01M  17.3MB/s    in 26s     \n",
            "\n",
            "2022-05-18 14:48:51 (9.98 MB/s) - ‘spark-3.2.1-bin-hadoop2.7.tgz’ saved [272637746/272637746]\n",
            "\n"
          ]
        }
      ]
    },
    {
      "cell_type": "code",
      "source": [
        "!tar xf /content/spark-3.2.1-bin-hadoop2.7.tgz"
      ],
      "metadata": {
        "id": "O7mDnQYkpCN5"
      },
      "execution_count": null,
      "outputs": []
    },
    {
      "cell_type": "code",
      "source": [
        "!pip install -q findspark"
      ],
      "metadata": {
        "id": "t3bvUlSppCRF"
      },
      "execution_count": null,
      "outputs": []
    },
    {
      "cell_type": "code",
      "source": [
        "import os\n",
        "os.environ[\"JAVA_HOME\"] = \"/usr/lib/jvm/java-8-openjdk-amd64\"\n",
        "os.environ[\"SPARK_HOME\"] = \"/content/spark-3.2.1-bin-hadoop2.7\""
      ],
      "metadata": {
        "id": "ffMU6HOfpCT2"
      },
      "execution_count": null,
      "outputs": []
    },
    {
      "cell_type": "code",
      "source": [
        "import findspark\n",
        "findspark.init()\n",
        "findspark.find()"
      ],
      "metadata": {
        "colab": {
          "base_uri": "https://localhost:8080/",
          "height": 36
        },
        "id": "Bj-QdoK2pCXF",
        "outputId": "fb44563e-91a5-4751-8efe-2479184f99a1"
      },
      "execution_count": null,
      "outputs": [
        {
          "output_type": "execute_result",
          "data": {
            "text/plain": [
              "'/content/spark-3.2.1-bin-hadoop2.7'"
            ],
            "application/vnd.google.colaboratory.intrinsic+json": {
              "type": "string"
            }
          },
          "metadata": {},
          "execution_count": 6
        }
      ]
    },
    {
      "cell_type": "code",
      "source": [
        "from pyspark.sql import SparkSession\n",
        "\n",
        "spark = SparkSession.builder\\\n",
        "        .master(\"local\")\\\n",
        "        .appName(\"MyFirstEDA\")\\\n",
        "        .config('spark.ui.port', '4050')\\\n",
        "        .getOrCreate()"
      ],
      "metadata": {
        "id": "MIJvAceNpCae"
      },
      "execution_count": null,
      "outputs": []
    },
    {
      "cell_type": "code",
      "source": [
        "import pyspark\n",
        "import numpy as np\n",
        "import pandas as pd"
      ],
      "metadata": {
        "id": "wa5OUMsopCdt"
      },
      "execution_count": null,
      "outputs": []
    },
    {
      "cell_type": "code",
      "source": [
        "\"\"\"#####loading the dataset#######\"\"\"\n",
        "\n",
        "from pyspark.sql import SparkSession\n",
        "\n",
        "spark = SparkSession.builder.master('local[*]').appName('Customer_Segmants').getOrCreate()"
      ],
      "metadata": {
        "id": "aIXlBfthpCgy"
      },
      "execution_count": null,
      "outputs": []
    },
    {
      "cell_type": "code",
      "source": [
        "# Read data from CSV file\n",
        "#you can download it from here:   https://raw.githubusercontent.com/besherh/BigDataManagement/main/SparkCSV/CC_GENERAL.csv\n",
        "customer_df=spark.read.csv('/content/combined-data.csv', sep=',', header=True, inferSchema=True, nullValue='NULL')\n",
        "\n",
        "customer_df.show(5)\n",
        "\n",
        "customer_df.printSchema()\n",
        "\n",
        "customer_df.count()\n",
        "\n",
        "from pyspark.sql.functions import col,isnan, when, count\n",
        "\n",
        "customer_df.na.drop().count()\n",
        "\n",
        "customer_df.na.drop(how=\"any\", thresh=2).show()"
      ],
      "metadata": {
        "colab": {
          "base_uri": "https://localhost:8080/"
        },
        "id": "TbHRaTEdpCjr",
        "outputId": "cb05ecd2-aac5-4944-9416-d9c7e12c09d7"
      },
      "execution_count": null,
      "outputs": [
        {
          "output_type": "stream",
          "name": "stdout",
          "text": [
            "+------+-------------+---------+------------+----------------+----------+-----------+---------+\n",
            "|userId|userSessionId|teamLevel|platformType|count_gameclicks|count_hits|count_buyId|avg_price|\n",
            "+------+-------------+---------+------------+----------------+----------+-----------+---------+\n",
            "|   812|         5648|        1|     android|              69|         8|       null|     null|\n",
            "|  1658|         5649|        1|      iphone|              31|         5|       null|     null|\n",
            "|  1589|         5650|        1|      iphone|              26|         2|       null|     null|\n",
            "|  1863|         5651|        1|     android|              35|         4|       null|     null|\n",
            "|   937|         5652|        1|     android|              39|         0|          1|      1.0|\n",
            "+------+-------------+---------+------------+----------------+----------+-----------+---------+\n",
            "only showing top 5 rows\n",
            "\n",
            "root\n",
            " |-- userId: integer (nullable = true)\n",
            " |-- userSessionId: integer (nullable = true)\n",
            " |-- teamLevel: integer (nullable = true)\n",
            " |-- platformType: string (nullable = true)\n",
            " |-- count_gameclicks: integer (nullable = true)\n",
            " |-- count_hits: integer (nullable = true)\n",
            " |-- count_buyId: integer (nullable = true)\n",
            " |-- avg_price: double (nullable = true)\n",
            "\n",
            "+------+-------------+---------+------------+----------------+----------+-----------+---------+\n",
            "|userId|userSessionId|teamLevel|platformType|count_gameclicks|count_hits|count_buyId|avg_price|\n",
            "+------+-------------+---------+------------+----------------+----------+-----------+---------+\n",
            "|   812|         5648|        1|     android|              69|         8|       null|     null|\n",
            "|  1658|         5649|        1|      iphone|              31|         5|       null|     null|\n",
            "|  1589|         5650|        1|      iphone|              26|         2|       null|     null|\n",
            "|  1863|         5651|        1|     android|              35|         4|       null|     null|\n",
            "|   937|         5652|        1|     android|              39|         0|          1|      1.0|\n",
            "|   342|         5653|        1|     android|              36|         5|       null|     null|\n",
            "|   849|         5654|        1|      iphone|              40|         5|       null|     null|\n",
            "|  1277|         5655|        1|     windows|              46|         8|       null|     null|\n",
            "|  2203|         5656|        1|     android|              68|         6|       null|     null|\n",
            "|   585|         5657|        1|      iphone|              76|         9|       null|     null|\n",
            "|  1370|         5658|        1|      iphone|              69|         6|       null|     null|\n",
            "|  1623|         5659|        1|      iphone|             129|         9|          1|     10.0|\n",
            "|   881|         5660|        1|      iphone|              36|         6|       null|     null|\n",
            "|    83|         5661|        1|     android|             102|        14|          1|      5.0|\n",
            "|   453|         5662|        1|     android|             102|         7|       null|     null|\n",
            "|  1966|         5663|        1|      iphone|              63|         8|       null|     null|\n",
            "|  1073|         5664|        1|     android|             141|        21|       null|     null|\n",
            "|   121|         5665|        1|     android|              39|         4|          1|      3.0|\n",
            "|   462|         5666|        1|     android|              90|        10|          1|      3.0|\n",
            "|   708|         5667|        1|      iphone|              32|         2|       null|     null|\n",
            "+------+-------------+---------+------------+----------------+----------+-----------+---------+\n",
            "only showing top 20 rows\n",
            "\n"
          ]
        }
      ]
    },
    {
      "cell_type": "code",
      "source": [
        "from pyspark.ml.feature import Imputer\n",
        "\n",
        "imputer = Imputer(\n",
        "    inputCols=['count_buyId', 'avg_price'], \n",
        "    outputCols=[\"{}_imputed\".format(c) for c in ['count_buyId', 'avg_price']]\n",
        "    ).setStrategy(\"mean\")"
      ],
      "metadata": {
        "id": "Xa8ngwqXpCmc"
      },
      "execution_count": null,
      "outputs": []
    },
    {
      "cell_type": "code",
      "source": [
        "#Add imputation cols to customer_df\n",
        "customer_df2 = imputer.fit(customer_df).transform(customer_df)\n",
        "\n",
        "customer_df2.show()\n",
        "\n",
        "customer_df2.printSchema()"
      ],
      "metadata": {
        "colab": {
          "base_uri": "https://localhost:8080/"
        },
        "id": "om0s5r_1pCpp",
        "outputId": "bad9da0e-a7ec-454b-c92b-de4630427afe"
      },
      "execution_count": null,
      "outputs": [
        {
          "output_type": "stream",
          "name": "stdout",
          "text": [
            "+------+-------------+---------+------------+----------------+----------+-----------+---------+-------------------+-----------------+\n",
            "|userId|userSessionId|teamLevel|platformType|count_gameclicks|count_hits|count_buyId|avg_price|count_buyId_imputed|avg_price_imputed|\n",
            "+------+-------------+---------+------------+----------------+----------+-----------+---------+-------------------+-----------------+\n",
            "|   812|         5648|        1|     android|              69|         8|       null|     null|                  1|7.214323175053155|\n",
            "|  1658|         5649|        1|      iphone|              31|         5|       null|     null|                  1|7.214323175053155|\n",
            "|  1589|         5650|        1|      iphone|              26|         2|       null|     null|                  1|7.214323175053155|\n",
            "|  1863|         5651|        1|     android|              35|         4|       null|     null|                  1|7.214323175053155|\n",
            "|   937|         5652|        1|     android|              39|         0|          1|      1.0|                  1|              1.0|\n",
            "|   342|         5653|        1|     android|              36|         5|       null|     null|                  1|7.214323175053155|\n",
            "|   849|         5654|        1|      iphone|              40|         5|       null|     null|                  1|7.214323175053155|\n",
            "|  1277|         5655|        1|     windows|              46|         8|       null|     null|                  1|7.214323175053155|\n",
            "|  2203|         5656|        1|     android|              68|         6|       null|     null|                  1|7.214323175053155|\n",
            "|   585|         5657|        1|      iphone|              76|         9|       null|     null|                  1|7.214323175053155|\n",
            "|  1370|         5658|        1|      iphone|              69|         6|       null|     null|                  1|7.214323175053155|\n",
            "|  1623|         5659|        1|      iphone|             129|         9|          1|     10.0|                  1|             10.0|\n",
            "|   881|         5660|        1|      iphone|              36|         6|       null|     null|                  1|7.214323175053155|\n",
            "|    83|         5661|        1|     android|             102|        14|          1|      5.0|                  1|              5.0|\n",
            "|   453|         5662|        1|     android|             102|         7|       null|     null|                  1|7.214323175053155|\n",
            "|  1966|         5663|        1|      iphone|              63|         8|       null|     null|                  1|7.214323175053155|\n",
            "|  1073|         5664|        1|     android|             141|        21|       null|     null|                  1|7.214323175053155|\n",
            "|   121|         5665|        1|     android|              39|         4|          1|      3.0|                  1|              3.0|\n",
            "|   462|         5666|        1|     android|              90|        10|          1|      3.0|                  1|              3.0|\n",
            "|   708|         5667|        1|      iphone|              32|         2|       null|     null|                  1|7.214323175053155|\n",
            "+------+-------------+---------+------------+----------------+----------+-----------+---------+-------------------+-----------------+\n",
            "only showing top 20 rows\n",
            "\n",
            "root\n",
            " |-- userId: integer (nullable = true)\n",
            " |-- userSessionId: integer (nullable = true)\n",
            " |-- teamLevel: integer (nullable = true)\n",
            " |-- platformType: string (nullable = true)\n",
            " |-- count_gameclicks: integer (nullable = true)\n",
            " |-- count_hits: integer (nullable = true)\n",
            " |-- count_buyId: integer (nullable = true)\n",
            " |-- avg_price: double (nullable = true)\n",
            " |-- count_buyId_imputed: integer (nullable = true)\n",
            " |-- avg_price_imputed: double (nullable = true)\n",
            "\n"
          ]
        }
      ]
    },
    {
      "cell_type": "code",
      "source": [
        "from pyspark.sql import functions as F\n",
        "categories = customer_df2.select(\"platformType\").distinct().rdd.flatMap(lambda x: x).collect()\n",
        "\n",
        "exprs = [F.when(F.col(\"platformType\") == category, 1).otherwise(0).alias(category)\n",
        "         for category in categories]\n",
        "\n",
        "customer_df3 = customer_df2.select( \"count_hits\" , \"count_gameclicks\" , \"avg_price_imputed\" ,  *exprs)\n",
        "\n",
        "customer_df3=customer_df2.select(\"count_gameclicks\",\"count_hits\",\"avg_price_imputed\")\n",
        "\n",
        "customer_df3.show()"
      ],
      "metadata": {
        "colab": {
          "base_uri": "https://localhost:8080/"
        },
        "id": "1kOt-7Iwq2r5",
        "outputId": "4fc60d5d-77aa-41f7-841e-13128f217ff8"
      },
      "execution_count": null,
      "outputs": [
        {
          "output_type": "stream",
          "name": "stdout",
          "text": [
            "+----------------+----------+-----------------+\n",
            "|count_gameclicks|count_hits|avg_price_imputed|\n",
            "+----------------+----------+-----------------+\n",
            "|              69|         8|7.214323175053155|\n",
            "|              31|         5|7.214323175053155|\n",
            "|              26|         2|7.214323175053155|\n",
            "|              35|         4|7.214323175053155|\n",
            "|              39|         0|              1.0|\n",
            "|              36|         5|7.214323175053155|\n",
            "|              40|         5|7.214323175053155|\n",
            "|              46|         8|7.214323175053155|\n",
            "|              68|         6|7.214323175053155|\n",
            "|              76|         9|7.214323175053155|\n",
            "|              69|         6|7.214323175053155|\n",
            "|             129|         9|             10.0|\n",
            "|              36|         6|7.214323175053155|\n",
            "|             102|        14|              5.0|\n",
            "|             102|         7|7.214323175053155|\n",
            "|              63|         8|7.214323175053155|\n",
            "|             141|        21|7.214323175053155|\n",
            "|              39|         4|              3.0|\n",
            "|              90|        10|              3.0|\n",
            "|              32|         2|7.214323175053155|\n",
            "+----------------+----------+-----------------+\n",
            "only showing top 20 rows\n",
            "\n"
          ]
        }
      ]
    },
    {
      "cell_type": "code",
      "source": [
        "from pyspark.ml.feature import VectorAssembler\n",
        "customer_df3.columns\n",
        "assemble=VectorAssembler(inputCols=[\n",
        " \"count_gameclicks\",\n",
        " \"count_hits\",\n",
        " \"avg_price_imputed\",\n",
        " ], outputCol='features')\n",
        "assembled_data=assemble.transform(customer_df3)\n",
        "assembled_data.show(10)"
      ],
      "metadata": {
        "colab": {
          "base_uri": "https://localhost:8080/"
        },
        "id": "ROj2qbbNq2vr",
        "outputId": "a1f8bd16-cd68-46c5-8940-c3c4a1798639"
      },
      "execution_count": null,
      "outputs": [
        {
          "output_type": "stream",
          "name": "stdout",
          "text": [
            "+----------------+----------+-----------------+--------------------+\n",
            "|count_gameclicks|count_hits|avg_price_imputed|            features|\n",
            "+----------------+----------+-----------------+--------------------+\n",
            "|              69|         8|7.214323175053155|[69.0,8.0,7.21432...|\n",
            "|              31|         5|7.214323175053155|[31.0,5.0,7.21432...|\n",
            "|              26|         2|7.214323175053155|[26.0,2.0,7.21432...|\n",
            "|              35|         4|7.214323175053155|[35.0,4.0,7.21432...|\n",
            "|              39|         0|              1.0|      [39.0,0.0,1.0]|\n",
            "|              36|         5|7.214323175053155|[36.0,5.0,7.21432...|\n",
            "|              40|         5|7.214323175053155|[40.0,5.0,7.21432...|\n",
            "|              46|         8|7.214323175053155|[46.0,8.0,7.21432...|\n",
            "|              68|         6|7.214323175053155|[68.0,6.0,7.21432...|\n",
            "|              76|         9|7.214323175053155|[76.0,9.0,7.21432...|\n",
            "+----------------+----------+-----------------+--------------------+\n",
            "only showing top 10 rows\n",
            "\n"
          ]
        }
      ]
    },
    {
      "cell_type": "code",
      "source": [
        "from pyspark.ml.feature import StandardScaler\n",
        "scale=StandardScaler(inputCol='features',outputCol='standardized')\n",
        "data_scale=scale.fit(assembled_data)\n",
        "data_scale_output=data_scale.transform(assembled_data)\n",
        "data_scale_output.show(20)"
      ],
      "metadata": {
        "colab": {
          "base_uri": "https://localhost:8080/"
        },
        "id": "EjkPS57iq2zO",
        "outputId": "1be2c66f-7eb4-4b34-c790-afecc365fe4b"
      },
      "execution_count": null,
      "outputs": [
        {
          "output_type": "stream",
          "name": "stdout",
          "text": [
            "+----------------+----------+-----------------+--------------------+--------------------+\n",
            "|count_gameclicks|count_hits|avg_price_imputed|            features|        standardized|\n",
            "+----------------+----------+-----------------+--------------------+--------------------+\n",
            "|              69|         8|7.214323175053155|[69.0,8.0,7.21432...|[0.54380637390174...|\n",
            "|              31|         5|7.214323175053155|[31.0,5.0,7.21432...|[0.24431880566599...|\n",
            "|              26|         2|7.214323175053155|[26.0,2.0,7.21432...|[0.20491254668761...|\n",
            "|              35|         4|7.214323175053155|[35.0,4.0,7.21432...|[0.27584381284870...|\n",
            "|              39|         0|              1.0|      [39.0,0.0,1.0]|[0.30736882003141...|\n",
            "|              36|         5|7.214323175053155|[36.0,5.0,7.21432...|[0.28372506464438...|\n",
            "|              40|         5|7.214323175053155|[40.0,5.0,7.21432...|[0.31525007182709...|\n",
            "|              46|         8|7.214323175053155|[46.0,8.0,7.21432...|[0.36253758260116...|\n",
            "|              68|         6|7.214323175053155|[68.0,6.0,7.21432...|[0.53592512210606...|\n",
            "|              76|         9|7.214323175053155|[76.0,9.0,7.21432...|[0.59897513647148...|\n",
            "|              69|         6|7.214323175053155|[69.0,6.0,7.21432...|[0.54380637390174...|\n",
            "|             129|         9|             10.0|    [129.0,9.0,10.0]|[1.01668148164238...|\n",
            "|              36|         6|7.214323175053155|[36.0,6.0,7.21432...|[0.28372506464438...|\n",
            "|             102|        14|              5.0|    [102.0,14.0,5.0]|[0.80388768315909...|\n",
            "|             102|         7|7.214323175053155|[102.0,7.0,7.2143...|[0.80388768315909...|\n",
            "|              63|         8|7.214323175053155|[63.0,8.0,7.21432...|[0.49651886312767...|\n",
            "|             141|        21|7.214323175053155|[141.0,21.0,7.214...|[1.11125650319051...|\n",
            "|              39|         4|              3.0|      [39.0,4.0,3.0]|[0.30736882003141...|\n",
            "|              90|        10|              3.0|     [90.0,10.0,3.0]|[0.70931266161096...|\n",
            "|              32|         2|7.214323175053155|[32.0,2.0,7.21432...|[0.25220005746167...|\n",
            "+----------------+----------+-----------------+--------------------+--------------------+\n",
            "only showing top 20 rows\n",
            "\n"
          ]
        }
      ]
    },
    {
      "cell_type": "code",
      "source": [
        "from pyspark.ml.clustering import KMeans\n",
        "from pyspark.ml.evaluation import ClusteringEvaluator\n",
        "silhouette_score=[]\n",
        "evaluator = ClusteringEvaluator(predictionCol='prediction', featuresCol='standardized', \\\n",
        "                                metricName='silhouette', distanceMeasure='squaredEuclidean')\n",
        "for i in range(2,10):\n",
        "    KMeans_algo=KMeans(featuresCol='standardized', k=i)\n",
        "    KMeans_fit=KMeans_algo.fit(data_scale_output)\n",
        "    output=KMeans_fit.transform(data_scale_output)\n",
        "    score=evaluator.evaluate(output)\n",
        "    silhouette_score.append(score)\n",
        "    print(\"Silhouette Score:\",score)"
      ],
      "metadata": {
        "colab": {
          "base_uri": "https://localhost:8080/"
        },
        "id": "qYFXjaSCq22Z",
        "outputId": "21ebb97f-bfcb-48e5-de7f-2cbfd9ca3928"
      },
      "execution_count": null,
      "outputs": [
        {
          "output_type": "stream",
          "name": "stdout",
          "text": [
            "Silhouette Score: 0.7710754500882127\n",
            "Silhouette Score: 0.7933619089102762\n",
            "Silhouette Score: 0.7189021451892604\n",
            "Silhouette Score: 0.5033523545832158\n",
            "Silhouette Score: 0.4142152094525282\n",
            "Silhouette Score: 0.6024525265056678\n",
            "Silhouette Score: 0.6101847566755542\n",
            "Silhouette Score: 0.6140983149901859\n"
          ]
        }
      ]
    },
    {
      "cell_type": "code",
      "source": [
        "#Visualizing the silhouette scores in a plot\n",
        "import matplotlib.pyplot as plt\n",
        "fig, ax = plt.subplots(1,1, figsize =(8,6))\n",
        "ax.plot(range(2,10),silhouette_score)\n",
        "ax.set_xlabel('k')\n",
        "ax.set_ylabel('cost')"
      ],
      "metadata": {
        "colab": {
          "base_uri": "https://localhost:8080/",
          "height": 405
        },
        "id": "qFsjsCpgq25h",
        "outputId": "63720a27-3599-4c79-fbc3-d74762942f6c"
      },
      "execution_count": null,
      "outputs": [
        {
          "output_type": "execute_result",
          "data": {
            "text/plain": [
              "Text(0, 0.5, 'cost')"
            ]
          },
          "metadata": {},
          "execution_count": 23
        },
        {
          "output_type": "display_data",
          "data": {
            "text/plain": [
              "<Figure size 576x432 with 1 Axes>"
            ],
            "image/png": "[encoded data removed]"
          },
          "metadata": {
            "needs_background": "light"
          }
        }
      ]
    },
    {
      "cell_type": "code",
      "source": [
        "KMeans_=KMeans(featuresCol='features', k=3) \n",
        "KMeans_Model=KMeans_.fit(data_scale_output)\n",
        "KMeans_Assignments=KMeans_Model.transform(data_scale_output)\n",
        "\n",
        "centers = KMeans_Model.clusterCenters()\n",
        "centers\n",
        "\n",
        "KMeans_Assignments.show(1)"
      ],
      "metadata": {
        "colab": {
          "base_uri": "https://localhost:8080/"
        },
        "id": "ldlxRRMUq29N",
        "outputId": "84363117-2577-4a84-bf61-27acac177bf5"
      },
      "execution_count": null,
      "outputs": [
        {
          "output_type": "stream",
          "name": "stdout",
          "text": [
            "+----------------+----------+-----------------+--------------------+--------------------+----------+\n",
            "|count_gameclicks|count_hits|avg_price_imputed|            features|        standardized|prediction|\n",
            "+----------------+----------+-----------------+--------------------+--------------------+----------+\n",
            "|              69|         8|7.214323175053155|[69.0,8.0,7.21432...|[0.54380637390174...|         0|\n",
            "+----------------+----------+-----------------+--------------------+--------------------+----------+\n",
            "only showing top 1 row\n",
            "\n"
          ]
        }
      ]
    },
    {
      "cell_type": "code",
      "source": [
        "from pyspark.ml.feature import PCA as PCAml\n",
        "pca = PCAml(k=3, inputCol=\"features\", outputCol=\"prediction\")\n",
        "pca_model = pca.fit(data_scale_output)\n",
        "pca_transformed = pca_model.transform(data_scale_output)\n",
        "\n",
        "KMeans_Assignments.show(1)"
      ],
      "metadata": {
        "colab": {
          "base_uri": "https://localhost:8080/"
        },
        "id": "q0gq99piq3AG",
        "outputId": "1ae13a39-a0bb-4a0b-bf35-086b662a38cc"
      },
      "execution_count": null,
      "outputs": [
        {
          "output_type": "stream",
          "name": "stdout",
          "text": [
            "+----------------+----------+-----------------+--------------------+--------------------+----------+\n",
            "|count_gameclicks|count_hits|avg_price_imputed|            features|        standardized|prediction|\n",
            "+----------------+----------+-----------------+--------------------+--------------------+----------+\n",
            "|              69|         8|7.214323175053155|[69.0,8.0,7.21432...|[0.54380637390174...|         0|\n",
            "+----------------+----------+-----------------+--------------------+--------------------+----------+\n",
            "only showing top 1 row\n",
            "\n"
          ]
        }
      ]
    },
    {
      "cell_type": "code",
      "source": [
        "import numpy as np\n",
        "x_pca = np.array(pca_transformed.rdd.map(lambda row: row.prediction).collect())\n",
        "cluster_assignment = np.array(KMeans_Assignments.rdd.map(lambda row: row.prediction).collect()).reshape(-1,1)\n",
        "import seaborn as sns\n",
        "import matplotlib.pyplot as plt\n",
        "pca_data = np.hstack((x_pca,cluster_assignment))\n",
        "pca_df = pd.DataFrame(data=pca_data, columns=(\"count_gameclicks\", \"count_hits\",\"avg_price_imputed\",\"cluster_assignment\"))\n",
        "sns.FacetGrid(pca_df,hue=\"cluster_assignment\", height=6).map(plt.scatter, 'count_gameclicks', 'count_hits','avg_price_imputed' ).add_legend()\n",
        "plt.title(\"Cluster Plot of Combined Dataset using KMeans Algorithm\")\n",
        "\n",
        "plt.show()"
      ],
      "metadata": {
        "colab": {
          "base_uri": "https://localhost:8080/",
          "height": 492
        },
        "id": "Zmd9D5pDwIZC",
        "outputId": "20001847-b0e7-47c8-8e94-07a9bd638fbf"
      },
      "execution_count": null,
      "outputs": [
        {
          "output_type": "stream",
          "name": "stderr",
          "text": [
            "/usr/local/lib/python3.7/dist-packages/matplotlib/collections.py:885: RuntimeWarning: invalid value encountered in sqrt\n",
            "  scale = np.sqrt(self._sizes) * dpi / 72.0 * self._factor\n"
          ]
        },
        {
          "output_type": "display_data",
          "data": {
            "text/plain": [
              "<Figure size 537.375x432 with 1 Axes>"
            ],
            "image/png": "[encoded data removed]"
          },
          "metadata": {
            "needs_background": "light"
          }
        }
      ]
    }
  ]
}